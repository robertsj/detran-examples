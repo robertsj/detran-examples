{
 "cells": [
  {
   "cell_type": "markdown",
   "id": "0e890f96",
   "metadata": {},
   "source": [
    "# Tutorial: Approach to Critical\n",
    "\n",
    "In this tutorial, we'll use the slab reactor model to demonstrate the $1/M$ method for achieving a critical reactor state."
   ]
  },
  {
   "cell_type": "markdown",
   "id": "b4647630",
   "metadata": {},
   "source": [
    "## The Model Problem\n",
    "\n",
    "The reactor of interest can be represented in 1-D by a sequence of alternating, infinite, 10-cm wide, slab assemblies as illustrated below:\n",
    "\n",
    "```\n",
    "    |     |      |      |      |      |      |     |\n",
    "    |  R  |  A1  |  A2  |  A3  |  A4  |  A5  |  R  |\n",
    "    |     |      |      |      |      |      |     |\n",
    "    0     10.    20.    30.    40.    50.    60.   70. cm\n",
    "```\n",
    "\n",
    "Here, R indicates a reflector, while A$i$ specifies the $i$th assembly.\n",
    "All of the assemblies are of the same fuel type.\n",
    "However, A2 and A4 are control locations.  \n",
    "Listed in the first table below are the two-group constants\n",
    "for the reflector, fuel with no control inserted (applicable also to A1, A3, and A5), and\n",
    "fuel with control fully inserted.  Note that the only difference between the fuel materials\n",
    "is the the cross section for thermal (group 2) absorption.  When the control\n",
    "is fully withdrawn, the *all out* value can be used.  When the control \n",
    "is fully inserted, the *it all in* value can be used.  For intermediate positions,\n",
    "linear interpolation of the two values may be used.  The second table includes kinetic parameters.\n",
    "\n",
    "| material       | $D_1$  | $D_2$  | $\\Sigma_{a1}$ | $\\Sigma_{a2}$ | $\\Sigma_{s2\\gets 1}$ | $\\nu\\Sigma_{f1}$ | $\\nu\\Sigma_{f2}$ |\n",
    "|----------------|--------|--------|---------------|---------------|----------------------|------------------|------------------|\n",
    "| reflector      | 1.5000 | 0.5000 | 0.0002        | 0.0100        | 0.0320               | 0.0000           | 0.0000           |\n",
    "| fuel (all out) | 1.3000 | 0.5000 | 0.0105        | 0.1140        | 0.0220               | 0.0030           | 0.1900           |\n",
    "| fuel (all in)  | 1.3000 | 0.5000 | 0.0105        | 0.1640        | 0.0220               | 0.0030           | 0.1900           |\n",
    "\n",
    "**Table 1** *Eight-group, delayed-neutron precursor constants.  Assume that all delayed neutrons are emitted in the fast group.*\n",
    "\n",
    "| group | $\\beta_i$ | $\\lambda_i$  |\n",
    "|-------|-----------|--------------|\n",
    "| 0     | 2.18e-04  | 1.246700e-02 |\n",
    "| 1     | 1.02e-03  | 2.829200e-02 |\n",
    "| 2     | 6.05e-04  | 4.252400e-02 |\n",
    "| 3     | 1.31e-03  | 1.330420e-01 |\n",
    "| 4     | 2.20e-03  | 2.924670e-01 |\n",
    "| 5     | 6.00e-04  | 6.664880e-01 |\n",
    "| 6     | 5.40e-04  | 1.634781e+00 |\n",
    "| 7     | 1.52e-04  | 3.554601e+00 |\n",
    "\n",
    "**Table 2** *Eight-group, delayed-neutron precursor constants.  Assume that all delayed neutrons are emitted in the fast group.*"
   ]
  },
  {
   "cell_type": "markdown",
   "id": "6c76f8ee",
   "metadata": {},
   "source": [
    "## The Background\n",
    "\n",
    "Recall that $k_{\\text{eff}}$ defines the ratio of the numbers of neutrons in generation $n+1$ to those in generation $n$. Each generation lasts for some small period of time.  Now, assume that a source is placed in a subcritical reactor that emits $S$ neutrons per generation time.  Then, the number of neutrons $N$ in the system at each generation is:\n",
    "\n",
    "| generation | $N$    |\n",
    "|------------|------------------------|\n",
    "|  0         | $S$                    |\n",
    "|  1         | $S + k_{\\text{eff}}S$  |\n",
    "|  2         | $S + k_{\\text{eff}}S + k_{\\text{eff}}^2 S$  |\n",
    "|  $\\vdots$         | $\\vdots$  |\n",
    "|  $n$         | $\\sum_{i=0}^n k_{\\text{eff}}^i S $  |\n",
    "\n",
    "Because $k_{\\text{eff}} < 1$ for a subcritical system, the sum coverges as $n \\to \\infty$ to \n",
    "\n",
    "$$\n",
    "  \\lim_{n\\to \\infty} \\sum_{i=0}^n k_{\\text{eff}}^i S = \\frac{S}{1-k_{\\text{eff}}} = M S\\, ,\n",
    "$$\n",
    "\n",
    "where\n",
    "\n",
    "$$\n",
    "  M = \\frac{1}{1-k_{\\text{eff}}}\n",
    "  \\tag{multiplication}\n",
    "$$\n",
    "\n",
    "is the *multiplication*.  As a reactor nears critical, note that\n",
    "\n",
    "$$\n",
    "    k_{\\text{eff}} \\to 1 \\qquad M \\to \\infty \\qquad \\frac{1}{M} \\to 0\n",
    "    \\tag{approach to criticality}\n",
    "$$ \n",
    "\n",
    "\n",
    "\n",
    "<div class=\"alert alert-block alert-warning\"> \n",
    "    Though related, the multiplication factor $k_{\\text{eff}}$ and the multiplication $M$ are separate quantities with specific meanings. \n",
    "</div>\n",
    "\n",
    "\n",
    "\n",
    "\n",
    "To make a subcritical reactor go critical, we need increase its reactivity by (1) adding fuel or (2) removing control.  For a new reactor being started for the first time, fuel (e.g., number of elements) is the natural parameter.  For an existing reactor being brought to criticality from a shutdown state, control (e.g., fraction of control withdrawn) is the natural parameter.\n",
    "\n",
    "Let us denote the selected parameter by $x$.  Then, the multiplication factor and, hence, multiplication are both functions of $x$, e.g., $k_{\\text{eff}}(x)$.  For two parameter values $x_0$ and $x_1$, the resulting neutron populations would be \n",
    "\n",
    "$$\n",
    "   N_0 = M_0 S = \\frac{S}{1-k_{\\text{eff}}(x_0)} \n",
    "     \\quad \\text{and} \\quad \n",
    "   N_1 = M_1 S = \\frac{S}{1-k_{\\text{eff}}(x_1)} \\, .\n",
    "$$\n",
    "\n",
    "In practice, we cannot count the actual number of neutrons, nor do we always have detailed knowledge of the source term $S$.  Rather, we measure some function of $N$, e.g., a neutron flux or a reactor power $P$.  Here, we will use the power $P$ and assume that $P = a N$ for some unknown constant $a$.  \n",
    "\n",
    "For brevity, let $x_i$ denote the $i$th value of the parameter being varied, and let $k_i$, $M_i$, and $P_i$ be the corresponding multiplication factor, multiplication, and powers.  \n",
    "\n",
    "Now, note the following:\n",
    "\n",
    "$$\n",
    "  \\frac{P_0}{P_i} = \\frac{ M_0}{ M_i } = \\frac{1-k_i}{1-k_0}\n",
    "$$\n",
    "\n",
    "If we were to select $x_0$, and measure $P_0$, and then modify $x_1$ so that the reactor is closer to critical, then the slope between $(x_0, P_0/P_0)$ and $(x_1, P_0/P_1)$ would be negative.  The closer $x_1$ gets us to critical, the closer $M_0/M_1$ gets to zero.  This is the basic idea of the $1/M$ method."
   ]
  },
  {
   "cell_type": "markdown",
   "id": "c470f61c",
   "metadata": {},
   "source": [
    "## The Procedure"
   ]
  },
  {
   "cell_type": "markdown",
   "id": "894486a1",
   "metadata": {},
   "source": [
    "The basic procedure for the $1/M$ method is as follows, using the control withdrawal fraction $x \\in [0, 1]$ as the example parameter:\n",
    "\n",
    "  1. Measure $P_0$ given $x_0 = 0$ (i.e., fully inserted).\n",
    "  2. Set $x_1$ to be a small withdrawal of the rods and measure $P_1$. (Here, \"small\" would necessarily be based on operational experience, preliminary calculations using models, etc.)\n",
    "  3. Using the points $(x_0, 1)$ and $(x_1, P_0/P_1)$, use linear extrapolation to estimate $x'_2$ that would lead to $P_0/P_2 = 0$.\n",
    "  4. To be conservative, set $x_2 = (x_1 + x_2')/2$ (i.e., make half the change computed).\n",
    "  5. Repeat the extrapolation usings points $(x_{i-1}, P_0/P_{i-1})$ and $(x_i, P_0/P_{i})$ until criticality is achieved.  To limit the number of \"small\" steps, take $k=0.999$ as \"critical.\""
   ]
  },
  {
   "cell_type": "markdown",
   "id": "d3995cc3",
   "metadata": {},
   "source": [
    "## Prepatory Exercise\n",
    "\n",
    "Consider an infinite, homogeneous reactor with a composition that ranges from the \"all in\" to \"all out\" materials listed above.  Let $x$ be the fraction withdrawn.\n",
    "\n",
    "Recall that, for a source-driven system, the fluxes satisfy\n",
    "\n",
    "$$\n",
    "  \\begin{bmatrix}\n",
    "   \\Sigma_{r1} - \\nu\\Sigma_{f1} & -\\nu\\Sigma_{f2} \\\\\n",
    "   -\\Sigma_{s2\\gets 1} &  \\Sigma_{a2}(x)   \\\\\n",
    "  \\end{bmatrix}\n",
    "  \\begin{bmatrix}\n",
    "   \\phi_1 \\\\\n",
    "   \\phi_2 \\\\\n",
    "  \\end{bmatrix}\n",
    "  = \n",
    "  \\begin{bmatrix}\n",
    "   S_1 \\\\\n",
    "   S_2 \\\\\n",
    "  \\end{bmatrix} \\, ,\n",
    "  \\tag{1}\n",
    "$$\n",
    "\n",
    "while for a criticality calculation, the fluxes and $k_{\\infty}$ satisfy\n",
    "\n",
    "$$\n",
    "\\overbrace{\\begin{bmatrix}\n",
    "   \\Sigma_{r1}  & 0 \\\\\n",
    "   -\\Sigma_{s2\\gets 1} &   \\Sigma_{a2}   \\\\\n",
    "  \\end{bmatrix}}^{\\mathbf{L}}\n",
    "  \\begin{bmatrix}\n",
    "   \\phi_1 \\\\\n",
    "   \\phi_2 \\\\\n",
    "  \\end{bmatrix}\n",
    "  = \n",
    "  \\frac{1}{k_{\\infty}}\n",
    "  \\overbrace{\\begin{bmatrix}\n",
    "   \\nu\\Sigma_{f1} & \\nu\\Sigma_{f2} \\\\\n",
    "   0  &  0 \\\\\n",
    "  \\end{bmatrix}}^{\\mathbf{F}}\n",
    "  \\begin{bmatrix}\n",
    "   \\phi_1 \\\\\n",
    "   \\phi_2 \\\\\n",
    "  \\end{bmatrix}\n",
    "  \\tag{2}\n",
    "$$\n",
    "\n",
    "\n",
    "  1. Compute $k_{\\infty}$ for $x=0$ (all in) and $x = 1$ (all out) using Eq. (2).  Based on these values, determine an approximate value for $x_{c}$.  (Hint: write out the equations, eliminate $\\phi_2$, and then eliminate $\\phi_1$ to get an expression for $k_{\\infty}$ in terms of the cross sections.)\n",
    "  \n",
    "  2. Now, let $x_0 = 0.0$ and $x_1 = 0.05$.  Assume a unit source in the fast energy group and that power is equal to the fast flux. Use Eq. (1) to compute $P_0$ and $P_1$.  (Hint: again eliminate $\\phi_2$ first.)\n",
    "  \n",
    "  3. Finally, predict $x_2$.  How close is $k_{\\text{eff}}$ to 1 for this value?\n",
    "  \n",
    "To help you, here are the cross sections from above:"
   ]
  },
  {
   "cell_type": "code",
   "execution_count": 1,
   "id": "385ab03c",
   "metadata": {},
   "outputs": [],
   "source": [
    "Σa1 = 0.0105; Σs21 = 0.0220; Σa2_out = 0.1140; Σa2_in = 0.1640; νΣf1 = 0.0030; νΣf2 = 0.1900; ν=2.5"
   ]
  },
  {
   "cell_type": "code",
   "execution_count": 2,
   "id": "9f2bbb36",
   "metadata": {},
   "outputs": [],
   "source": [
    "Σr1 = Σa1+Σs21"
   ]
  },
  {
   "cell_type": "code",
   "execution_count": 6,
   "id": "2afa2842",
   "metadata": {},
   "outputs": [],
   "source": [
    "Σa2 = lambda x: Σa2_out*(x) + Σa2_in*(1-x)\n",
    "phi1 = lambda x:  1/(Σr1 - νΣf1 - νΣf2*Σs21/Σa2(x))"
   ]
  },
  {
   "cell_type": "code",
   "execution_count": 11,
   "id": "865d9b6b",
   "metadata": {},
   "outputs": [],
   "source": [
    "x0, x1 = 0.0, 0.05\n",
    "P0 = phi1(x0);  M0 = P0/P0\n",
    "P1 = phi1(x1);  M1 = P1/P0\n",
    "\n",
    "# 1/M = a*x + b\n",
    "a = (1/M1-1/M0)/(x1-x0)\n",
    "b = 1"
   ]
  },
  {
   "cell_type": "code",
   "execution_count": 16,
   "id": "5654d44c",
   "metadata": {},
   "outputs": [],
   "source": [
    "# 0 = a*x2 + b\n",
    "# -b/a = x2\n",
    "x2 = -b/a\n",
    "x2h = (x1+x2)/2"
   ]
  },
  {
   "cell_type": "code",
   "execution_count": 17,
   "id": "261dc02a",
   "metadata": {},
   "outputs": [
    {
     "data": {
      "text/plain": [
       "609.5668111706709"
      ]
     },
     "execution_count": 17,
     "metadata": {},
     "output_type": "execute_result"
    }
   ],
   "source": [
    "phi1(x2h)"
   ]
  },
  {
   "cell_type": "code",
   "execution_count": null,
   "id": "02b3a82f",
   "metadata": {},
   "outputs": [],
   "source": []
  },
  {
   "cell_type": "markdown",
   "id": "44a92e8d",
   "metadata": {},
   "source": [
    "## Computational Experiment\n",
    "\n",
    "In this experiment, we'll apply a few iterations of the $1/M$ procedure to the slab reactor.  The startup source is modeled as a uniform, fast-group source in the middle assembly."
   ]
  },
  {
   "cell_type": "code",
   "execution_count": 27,
   "id": "24044d68",
   "metadata": {},
   "outputs": [],
   "source": [
    "from slab_materials import get_materials\n",
    "from slab_geometry import get_core_mesh, get_assembly_mesh\n",
    "from input_parameters import get_input\n",
    "inp = get_input()\n",
    "#mesh = get_core_mesh()\n",
    "mesh = get_assembly_mesh()\n",
    "inp.put_str(\"bc_west\",                        \"reflect\")\n",
    "inp.put_str(\"bc_east\",                        \"reflect\")\n",
    "\n",
    "from subcritical_source import run_transient, run_steady_state"
   ]
  },
  {
   "cell_type": "code",
   "execution_count": 46,
   "id": "1337e094",
   "metadata": {},
   "outputs": [
    {
     "name": "stdout",
     "output_type": "stream",
     "text": [
      "MAX POWER =  7.053879189720897e+38\n",
      "FINAL POWER =  7.053879189720897e+38 99.99999999999646\n"
     ]
    }
   ],
   "source": [
    "inp.put_dbl(\"ts_final_time\", 100.0)\n",
    "inp.put_int(\"ts_scheme\", 1)\n",
    "times, power = run_transient(inp, mesh, get_materials(0.462, 0.0))"
   ]
  },
  {
   "cell_type": "code",
   "execution_count": 47,
   "id": "423ebb8f",
   "metadata": {},
   "outputs": [
    {
     "data": {
      "image/png": "[encoded data removed]",
      "text/plain": [
       "<Figure size 800x300 with 1 Axes>"
      ]
     },
     "metadata": {},
     "output_type": "display_data"
    }
   ],
   "source": [
    "import matplotlib.pyplot as plt\n",
    "import numpy as np\n",
    "plt.figure(figsize=(8,3))\n",
    "plt.plot(times, power);\n",
    "#plt.ylim(.5, .6)"
   ]
  },
  {
   "cell_type": "code",
   "execution_count": 32,
   "id": "1a70ddaf",
   "metadata": {},
   "outputs": [
    {
     "name": "stdout",
     "output_type": "stream",
     "text": [
      "MAX POWER =  32.95329670118641\n",
      "FINAL POWER =  32.95329670118641 99.99999999999646\n"
     ]
    }
   ],
   "source": [
    "times, power = run_transient(inp, mesh, get_materials(0.45, 0.05))"
   ]
  },
  {
   "cell_type": "code",
   "execution_count": 6,
   "id": "ed78079e",
   "metadata": {},
   "outputs": [
    {
     "data": {
      "image/png": "[encoded data removed]",
      "text/plain": [
       "<Figure size 800x300 with 1 Axes>"
      ]
     },
     "metadata": {},
     "output_type": "display_data"
    }
   ],
   "source": [
    "plt.figure(figsize=(8,3))\n",
    "plt.plot(times, power);"
   ]
  },
  {
   "cell_type": "code",
   "execution_count": 7,
   "id": "02486092",
   "metadata": {},
   "outputs": [
    {
     "data": {
      "text/plain": [
       "0.24588422854409595"
      ]
     },
     "execution_count": 7,
     "metadata": {},
     "output_type": "execute_result"
    }
   ],
   "source": [
    "x0 = 0.0\n",
    "x1 = 0.05\n",
    "P0 = 16.409567482169894\n",
    "P1 = 20.59815571209875\n",
    "x = -1/((P0/P1-1)/(x1 - x0))\n",
    "x"
   ]
  },
  {
   "cell_type": "code",
   "execution_count": 8,
   "id": "f7cc3f82",
   "metadata": {},
   "outputs": [
    {
     "name": "stdout",
     "output_type": "stream",
     "text": [
      "MAX POWER =  548.665045096367\n",
      "FINAL POWER =  548.665045096367 99.99999999999646\n"
     ]
    }
   ],
   "source": [
    "times, power = run_transient(inp, mesh, get_materials(0.232, 0.232))"
   ]
  },
  {
   "cell_type": "code",
   "execution_count": 9,
   "id": "0f56acc7",
   "metadata": {},
   "outputs": [
    {
     "data": {
      "image/png": "[encoded data removed]",
      "text/plain": [
       "<Figure size 800x300 with 1 Axes>"
      ]
     },
     "metadata": {},
     "output_type": "display_data"
    }
   ],
   "source": [
    "plt.figure(figsize=(8,3))\n",
    "plt.plot(times, power);"
   ]
  },
  {
   "cell_type": "code",
   "execution_count": 48,
   "id": "bb781e20",
   "metadata": {},
   "outputs": [
    {
     "name": "stdout",
     "output_type": "stream",
     "text": [
      "happy breakdown for k =     0 (iteration =     1) \n",
      "happy breakdown for k =     1 (iteration =     2) \n",
      "happy breakdown for k =     2 (iteration =     3) \n",
      "happy breakdown for k =     3 (iteration =     4) \n",
      "happy breakdown for k =     4 (iteration =     5) \n",
      "happy breakdown for k =     5 (iteration =     6) \n",
      "happy breakdown for k =     6 (iteration =     7) \n",
      "happy breakdown for k =     7 (iteration =     8) \n",
      "happy breakdown for k =     8 (iteration =     9) \n",
      "happy breakdown for k =     9 (iteration =    10) \n",
      "happy breakdown for k =    10 (iteration =    11) \n",
      "happy breakdown for k =    11 (iteration =    12) \n",
      "happy breakdown for k =    12 (iteration =    13) \n",
      "happy breakdown for k =    13 (iteration =    14) \n",
      "happy breakdown for k =    14 (iteration =    15) \n",
      "happy breakdown for k =    15 (iteration =    16) \n",
      "happy breakdown for k =    16 (iteration =    17) \n",
      "happy breakdown for k =    17 (iteration =    18) \n",
      "happy breakdown for k =    18 (iteration =    19) \n",
      "happy breakdown for k =    19 (iteration =    20) \n",
      "happy breakdown for k =    20 (iteration =    21) \n",
      "happy breakdown for k =    21 (iteration =    22) \n",
      "happy breakdown for k =    22 (iteration =    23) \n",
      "happy breakdown for k =    23 (iteration =    24) \n",
      "happy breakdown for k =    24 (iteration =    25) \n",
      "happy breakdown for k =    25 (iteration =    26) \n",
      "happy breakdown for k =    26 (iteration =    27) \n",
      "happy breakdown for k =    27 (iteration =    28) \n",
      "happy breakdown for k =    28 (iteration =    29) \n",
      "happy breakdown for k =    29 (iteration =    30) \n",
      "happy breakdown for k =    30 (iteration =    31) \n",
      "happy breakdown for k =    31 (iteration =    32) \n",
      "happy breakdown for k =    32 (iteration =    33) \n",
      "happy breakdown for k =    33 (iteration =    34) \n",
      "happy breakdown for k =    34 (iteration =    35) \n",
      "happy breakdown for k =    35 (iteration =    36) \n",
      "happy breakdown for k =    36 (iteration =    37) \n",
      "happy breakdown for k =    37 (iteration =    38) \n",
      "happy breakdown for k =    38 (iteration =    39) \n",
      "happy breakdown for k =    39 (iteration =    40) \n",
      "happy breakdown for k =    40 (iteration =    41) \n",
      "happy breakdown for k =    41 (iteration =    42) \n",
      "happy breakdown for k =    42 (iteration =    43) \n",
      "happy breakdown for k =    43 (iteration =    44) \n",
      "happy breakdown for k =    44 (iteration =    45) \n",
      "happy breakdown for k =    45 (iteration =    46) \n",
      "happy breakdown for k =    46 (iteration =    47) \n",
      "happy breakdown for k =    47 (iteration =    48) \n",
      "happy breakdown for k =    48 (iteration =    49) \n",
      "happy breakdown for k =    49 (iteration =    50) \n",
      "Solving eigenvalue problem...\n",
      "Starting PI.\n",
      "*********************************************************************\n",
      " PI Final: Number Iters:   2  Error: 6.050715484e-15 keff:  1.005120926 \n",
      "*********************************************************************\n",
      "PI done.\n"
     ]
    }
   ],
   "source": [
    "state = run_steady_state(inp, mesh, get_materials(0.462, 0.0))"
   ]
  },
  {
   "cell_type": "code",
   "execution_count": null,
   "id": "c130a599",
   "metadata": {},
   "outputs": [],
   "source": []
  }
 ],
 "metadata": {
  "kernelspec": {
   "display_name": "Python 3 (ipykernel)",
   "language": "python",
   "name": "python3"
  },
  "language_info": {
   "codemirror_mode": {
    "name": "ipython",
    "version": 3
   },
   "file_extension": ".py",
   "mimetype": "text/x-python",
   "name": "python",
   "nbconvert_exporter": "python",
   "pygments_lexer": "ipython3",
   "version": "3.11.4"
  }
 },
 "nbformat": 4,
 "nbformat_minor": 5
}
