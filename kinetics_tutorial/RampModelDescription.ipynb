{
 "cells": [
  {
   "cell_type": "markdown",
   "metadata": {},
   "source": [
    "# Introduction\n",
    "\n",
    "This problem started life as a homework problem given by Kord Smith some years ago in his one-off course on kinetics.  The problem was extended a bit and used as the basis for two qualifying exams.  The original descriptions and tasks for those exams are included below for posterity.\n",
    "\n",
    "\n",
    "\n",
    "# Delayed-Supercritical Ramp without Feedback\n"
   ]
  },
  {
   "cell_type": "markdown",
   "metadata": {},
   "source": [
    "## The Model Problem\n",
    "\n",
    "The reactor of interest can be represented in 1-D by a sequence of alternating, infinite, 10-cm wide, slab assemblies as illustrated below:\n",
    "\n",
    "```\n",
    "    |     |      |      |      |      |      |     |\n",
    "    |  R  |  A1  |  A2  |  A3  |  A4  |  A5  |  R  |\n",
    "    |     |      |      |      |      |      |     |\n",
    "    0     10.    20.    30.    40.    50.    60.   70. cm\n",
    "```\n",
    "\n",
    "Here, R indicates a reflector, while A$i$ specifies the $i$th assembly.\n",
    "All of the assemblies are of the same fuel type.\n",
    "However, A2 and A4 are control locations.  \n",
    "Listed in the first table below are the two-group constants\n",
    "for the reflector, fuel with no control inserted (applicable also to A1, A3, and A5), and\n",
    "fuel with control fully inserted.  Note that the only difference between the fuel materials\n",
    "is the the cross section for thermal (group 2) absorption.  When the control\n",
    "is fully withdrawn, the *all out* value can be used.  When the control \n",
    "is fully inserted, the *it all in* value can be used.  For intermediate positions,\n",
    "linear interpolation of the two values may be used.  The second table includes kinetic parameters.\n",
    "\n",
    "| material       | $D_1$  | $D_2$  | $\\Sigma_{a1}$ | $\\Sigma_{a2}$ | $\\Sigma_{s2\\gets 1}$ | $\\nu\\Sigma_{f1}$ | $\\nu\\Sigma_{f2}$ |\n",
    "|----------------|--------|--------|---------------|---------------|----------------------|------------------|------------------|\n",
    "| reflector      | 1.5000 | 0.5000 | 0.0002        | 0.0100        | 0.0320               | 0.0000           | 0.0000           |\n",
    "| fuel (all out) | 1.3000 | 0.5000 | 0.0105        | 0.1140        | 0.0220               | 0.0030           | 0.1900           |\n",
    "| fuel (all in)  | 1.3000 | 0.5000 | 0.0105        | 0.1640        | 0.0220               | 0.0030           | 0.1900           |\n",
    "\n",
    "**Table 1** *Eight-group, delayed-neutron precursor constants.  Assume that all delayed neutrons are emitted in the fast group.*\n",
    "\n",
    "| group | $\\beta_i$ | $\\lambda_i$  |\n",
    "|-------|-----------|--------------|\n",
    "| 0     | 2.18e-04  | 1.246700e-02 |\n",
    "| 1     | 1.02e-03  | 2.829200e-02 |\n",
    "| 2     | 6.05e-04  | 4.252400e-02 |\n",
    "| 3     | 1.31e-03  | 1.330420e-01 |\n",
    "| 4     | 2.20e-03  | 2.924670e-01 |\n",
    "| 5     | 6.00e-04  | 6.664880e-01 |\n",
    "| 6     | 5.40e-04  | 1.634781e+00 |\n",
    "| 7     | 1.52e-04  | 3.554601e+00 |\n",
    "\n",
    "**Table 2** *Eight-group, delayed-neutron precursor constants.  Assume that all delayed neutrons are emitted in the fast group.*\n"
   ]
  },
  {
   "cell_type": "markdown",
   "metadata": {},
   "source": [
    "Now, suppose that the reactor is operating with both control elements at 25\\% withdrawn.\n",
    "This configuration is called the \"rods-in\" configuration.\n",
    "After 2 seconds of steady-state operation, the right control (in A4) is removed\n",
    "to 30\\% withdrawn over a period of 2 seconds at a constant rate.  The resulting\n",
    "configuration (with the left control at 25\\% withdrawn and the right control at 30\\% withdrawn)\n",
    "is called the \"rod-out\" configuration.  This configuration is maintained for 6 seconds.  Then, at \n",
    "10 seconds, the right control\n",
    "is inserted back to the 25\\% position over a period of 2 seconds at a constant rate.  The reactor power is  followed for an additional 50 \n",
    "seconds.  In other words, the system is modeled for 62 seconds in total (including\n",
    "two seconds at steady state)."
   ]
  },
  {
   "cell_type": "markdown",
   "metadata": {},
   "source": [
    "## Specific Tasks\n",
    "\n",
    "Your specific tasks are as follows:\n",
    "\n",
    " 1. Construct steady-state models for both the *rods-in* and *rods-out* configurations.  Compute the critical eigenvalue (i.e, $k_{\\text{eff}}$, the (forward) thermal and fast fluxes, and the adjoint thermal and fast fluxes.  Use a spatial mesh that is sufficiently fine to resolve the eigenvalues to within $10^{-5}$.\n",
    " \n",
    " \n",
    " 2. Construct a model for the reactor transient described above.  This model will require an initial condition defined from your steady-state calculation.  Normalize this initial condition so that the reactor power is 100 W at steady state.  Assume 200 MeV/fission.  Plot the time-dependent power, and identify its peak power.  Use the delayed-neutron precursor data supplied in Table 2.\n",
    " \n",
    " \n",
    " 3. Construct a point-kinetics model for the reactor transient. Use the \"rods-in\" forward flux as the *shape* function and the \"rods-out\" adjoint flux as the *weight* function. (You will find Section 5.1 of Ott and Neuhold, *Introductory Nuclear Reactor Dynamics* (1985), or Section 9.2 of Bell and Glasstone, *Nuclear Reactor Theory* (1970) to be of great use in defining formal point-kinetics parameters.  Both books are also excellent resources for reactor kinetics and dynamics in general.)\n",
    " \n",
    " \n",
    " 4. Suppose that each of parameters in Tables 1 and 2 is a uniform random variable $x$ whose mean $\\mu$ is given in those tables  and whose bounds are defined as $x \\in [\\mu-0.01\\mu, \\mu+0.01\\mu]$.  Suppose the tolerance of the control position indicator is similarly  $\\pm 1\\%$ of the indicated value.  Approximate the probability distribution for the peak and final powers with any technique you wish using your transient model.  Then, do the same using your point-kinetics approximation.\n",
    " \n",
    " \n",
    " 5. Suppose the central 5 cm of assembly A3 contains a test specimen in which the total energy produced is of interest. In an actual transient experiment, the power indicator tolerance is $\\pm 1\\%$ (i.e., a power of 100 W is a random variable distributed between 99 W and 101 W). Given all of the other parameter uncertainties, a prescribed transient configuration (i.e., initial power, control position with time, etc.), develop a procedure that couples this power indicator reading with your model to estimate the energy generated in the test region during the transient."
   ]
  },
  {
   "cell_type": "markdown",
   "metadata": {},
   "source": [
    "# Prompt-Supercritical Control Ejection with Adiabatic Feedback\n",
    "\n",
    "## The Model Problem\n",
    "\n",
    "The reactor materials and geometry are unchanged from above. \n",
    "\n",
    "Temperature feedback is modeled with Doppler on the fast (i.e., group-1) absorption cross sections in the fueled regions following\n",
    "\n",
    "\\begin{equation*}\n",
    "    \\Sigma_{a1}(x, t) = \\Sigma_{a1}(x, 0) \\left [1 + \\gamma \\left (\\sqrt{T(t)} - \\sqrt{T(0)} \\right ) \\right ] \\, .\n",
    "\\end{equation*}\n",
    "\n",
    "where $t$ is time, $T(t)$ is the time-dependent temperature, and\n",
    "$\\gamma = 3.034\\cdot 10^{-3}~\\text{K}^{-0.5}$.\n",
    "The fuel assemblies are assumed to heat up following\n",
    "\n",
    "\\begin{equation*}\n",
    "    \\frac{\\partial T(x, t)}{\\partial t}\n",
    "      = \\alpha \\sum^2_{g=1} \\Sigma_{fg}(x, t) \\phi_g(x, t) \\, ,\n",
    "\\end{equation*}\n",
    "\n",
    "where $\\alpha = 3.83\\cdot 10^{-11}~\\text{K}~\\text{cm}^{3}$.\n",
    "\n",
    "Initially, the reactor is operating in steady state with both control elements at 25\\% withdrawn at a power of 1 W.\n",
    "After 2 seconds of steady-state operation, the right control (in A4) is removed\n",
    "to 40\\% withdrawn over a period of 2 seconds at a constant rate. \n",
    "The reactor power is  followed for an additional 3 \n",
    "seconds.  In other words, the system is modeled for 7 seconds in total."
   ]
  },
  {
   "cell_type": "markdown",
   "metadata": {},
   "source": [
    "## Specific Tasks\n",
    "\n",
    "Your specific tasks are as follows:\n",
    "\n",
    " 1. Construct steady-state models for both the initial (25\\% and 25\\% withdrawn) and final (25\\% and 40\\% withdrawn) configurations.  For each configuration, compute the critical eigenvalue (i.e, $k_{\\text{eff}}$), the (forward) thermal and fast fluxes, and the adjoint thermal and fast fluxes.  Use a spatial mesh that is sufficiently fine to resolve the eigenvalues to within $10^{-5}$.\n",
    "\n",
    "\n",
    " 2. Construct a model for the reactor transient described above. This model will require an initial condition defined from your steady-state calculation.  Use the delayed-neutron precursor data supplied in Table 2, and assume 200 MeV/fission.  Report the following:\n",
    "          \n",
    "      - time-dependent assembly powers, assembly temperatures, core power, and core temperatures\n",
    "      - peak temperature\n",
    "      - peak power and time at which it occurs\n",
    "      - secondary power peaks (if any) and times at which they occur.\n",
    "\n",
    "\n",
    " 3. Develop a simplified model for the reactor transient based on the *adiabatic method*. "
   ]
  },
  {
   "cell_type": "code",
   "execution_count": null,
   "metadata": {},
   "outputs": [],
   "source": []
  }
 ],
 "metadata": {
  "kernelspec": {
   "display_name": "Python 2",
   "language": "python",
   "name": "python2"
  },
  "language_info": {
   "codemirror_mode": {
    "name": "ipython",
    "version": 2
   },
   "file_extension": ".py",
   "mimetype": "text/x-python",
   "name": "python",
   "nbconvert_exporter": "python",
   "pygments_lexer": "ipython2",
   "version": "2.7.15"
  }
 },
 "nbformat": 4,
 "nbformat_minor": 2
}
